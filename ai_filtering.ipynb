{
 "cells": [
  {
   "cell_type": "markdown",
   "id": "2da39d24",
   "metadata": {},
   "source": [
    "# Data Filtering Using AI 🤖\n",
    "\n",
    "## Index:\n",
    "\n",
    "* ###  0. Requirements and Structure\n",
    "* ###  1. Libraries\n",
    "* ###  2. Google Sheets\n",
    "* ###  3. Data Filtering by Name\n",
    "* ###  4. Data Filtering using AI\n",
    "* ###  5. Google Slides\n",
    "* ###  6. Problem Solving\n",
    "* ###  7. Future Improvements"
   ]
  },
  {
   "cell_type": "markdown",
   "id": "bedb3696",
   "metadata": {},
   "source": [
    "## 0. Requirements and Structure"
   ]
  },
  {
   "cell_type": "markdown",
   "id": "9d332d9c",
   "metadata": {},
   "source": [
    "The following Requirements must be met before executing this script:\n",
    "\n",
    "- Have a Google Drive account\n",
    "- Create a Google Cloud account\n",
    "- Create a project on Google Cloud\n",
    "- Enable Drive, Sheets and Slides API credentials to the project\n",
    "- Download API keys JSON file and store it in the same location as this Jupyter Notebook\n",
    "- Google Sheets files needs to be created or uploaded manually and shared with your ``service account email``. In my case I used: \n",
    "\n",
    "  ``sergi-382@roche2023.iam.gserviceaccount.com``\n",
    "\n",
    "- The Google Slides template file needs to be manually created and shared with the ``service account email``. It must follow the given data structure by the assignment guidelines\n"
   ]
  },
  {
   "cell_type": "markdown",
   "id": "b9fbee2e",
   "metadata": {},
   "source": [
    "## 1. Libraries"
   ]
  },
  {
   "cell_type": "code",
   "execution_count": null,
   "id": "8ab2af40",
   "metadata": {},
   "outputs": [],
   "source": [
    "!pip install numpy\n",
    "!pip install pandas\n",
    "!pip install openai\n",
    "!pip install gspread\n",
    "!pip install ipywidgets\n",
    "!pip install oauth2client\n",
    "!pip install google-api-python-client google-auth-httplib2 google-auth-oauthlib"
   ]
  },
  {
   "cell_type": "code",
   "execution_count": 1,
   "id": "49995e3f",
   "metadata": {},
   "outputs": [],
   "source": [
    "# Google APIs\n",
    "from googleapiclient import discovery\n",
    "from googleapiclient.discovery import build\n",
    "\n",
    "# Working with Google Sheets and Slides\n",
    "from google.oauth2 import service_account\n",
    "import gspread\n",
    "\n",
    "# Interactive widgets for automatic text input\n",
    "from ipywidgets import interact, widgets\n",
    "\n",
    "# Pandas and numpy to work with df\n",
    "import pandas as pd\n",
    "import numpy as np\n",
    "\n",
    "# Open AI API\n",
    "import openai"
   ]
  },
  {
   "cell_type": "markdown",
   "id": "4c33ad16",
   "metadata": {},
   "source": [
    "The credentials JSON file can be downloaded from the [Google Cloud Platform](https://console.cloud.google.com) on your service account. Given the structure of this script, the credentials file needs to be stored and located in the same location as this Jupyter Notebook"
   ]
  },
  {
   "cell_type": "code",
   "execution_count": 2,
   "id": "7aa5ddbb",
   "metadata": {},
   "outputs": [],
   "source": [
    "service_account_file = 'roche2023.json' # My personal credentials"
   ]
  },
  {
   "cell_type": "code",
   "execution_count": 3,
   "id": "c6d0a7f7",
   "metadata": {},
   "outputs": [],
   "source": [
    "# Necessary scopes to access Extract data from Google Sheets\n",
    "scopes = ['https://www.googleapis.com/auth/spreadsheets', 'https://www.googleapis.com/auth/drive']"
   ]
  },
  {
   "cell_type": "markdown",
   "id": "2ed8ca12",
   "metadata": {},
   "source": [
    "## 2. Google Sheets"
   ]
  },
  {
   "cell_type": "markdown",
   "id": "8453eddc",
   "metadata": {},
   "source": [
    "### 2.1 Function"
   ]
  },
  {
   "cell_type": "markdown",
   "id": "e79a201b",
   "metadata": {},
   "source": [
    "Extracts data from any Google Sheets file. It is not only limited to the initial structure of ``ID, Name, Occupation, Country, Age``, it can extract data with any structure. It is only required that the file data has a **header**.\n",
    "\n",
    "Args\n",
    "* filename (str) The name of the Google Sheets file to extract data from\n",
    "* service_account_file (str) The path to the .JSON file with the service_account credentials\n",
    "* scopes (list) Necessary scopes to carry out the authentication\n",
    "\n",
    "Returns\n",
    "\n",
    "* df (dataframe) Clean data from the Google Sheets \n",
    "* header (str) Header row"
   ]
  },
  {
   "cell_type": "code",
   "execution_count": 4,
   "id": "a1accfa4",
   "metadata": {},
   "outputs": [],
   "source": [
    "def extract_data_from_gs(filename, service_account_file, scopes):\n",
    "    \n",
    "    try:\n",
    "        creds = None\n",
    "        # Loads service account credentials\n",
    "        creds = service_account.Credentials.from_service_account_file(service_account_file, scopes = scopes)\n",
    "        \n",
    "        # Authorizing Google client, opening the file and retrieving the data from it\n",
    "        client = gspread.authorize(creds)\n",
    "        google_sheet = client.open(filename).sheet1\n",
    "        result = google_sheet.get_all_values()\n",
    "        \n",
    "        # Cleaning missing and faulty entries in the data\n",
    "        df = pd.DataFrame.from_records(result[1:], columns=result[0])\n",
    "        header = str(df.columns.tolist()) # Converting the header to string\n",
    "        df.replace('', np.nan, inplace=True)\n",
    "    \n",
    "        deleted_rows = df[df.isnull().any(axis=1)] # Stores the deleted rows \n",
    "        df.dropna(inplace=True)\n",
    "        \n",
    "        # Checks all columns with numbers and converts it to int so filtering operations can be conducted at later stages\n",
    "        df = df.apply(pd.to_numeric, errors='ignore')\n",
    "        numeric_columns = df.select_dtypes(include='number').columns\n",
    "        df[numeric_columns] = df[numeric_columns].astype(int)\n",
    "        \n",
    "        if len(deleted_rows) > 0:\n",
    "            print(f\"The following rows with missing or null data have been deleted\\n {deleted_rows}\") # Displays deleted rows\n",
    "    \n",
    "        return df, header\n",
    "    \n",
    "    except gspread.SpreadsheetNotFound:\n",
    "        print(f\"Error: Could not find '{filename}' file.\") # Error given if the filename is not correct\n",
    "        return None"
   ]
  },
  {
   "cell_type": "markdown",
   "id": "9162ceed",
   "metadata": {},
   "source": [
    "### 2.2 Google Sheets filename input"
   ]
  },
  {
   "cell_type": "code",
   "execution_count": 5,
   "id": "ee728f12",
   "metadata": {},
   "outputs": [
    {
     "data": {
      "application/vnd.jupyter.widget-view+json": {
       "model_id": "19b8ecfb0c1a4ae18fff33c539382729",
       "version_major": 2,
       "version_minor": 0
      },
      "text/plain": [
       "Text(value='', layout=Layout(width='500px'), placeholder='Type filename of the Google Slides file containing t…"
      ]
     },
     "metadata": {},
     "output_type": "display_data"
    }
   ],
   "source": [
    "# Interactive widget so it is easier to input the data, no need to execute this cell again\n",
    "filename_widget = widgets.Text(placeholder='Type filename of the Google Slides file containing the employee data',\n",
    "                                   layout=widgets.Layout(width='500px'))\n",
    "display(filename_widget)"
   ]
  },
  {
   "cell_type": "markdown",
   "id": "5f96909c",
   "metadata": {},
   "source": [
    "### 2.3 Display of the results"
   ]
  },
  {
   "cell_type": "code",
   "execution_count": 6,
   "id": "350b8dbb",
   "metadata": {
    "scrolled": false
   },
   "outputs": [
    {
     "name": "stdout",
     "output_type": "stream",
     "text": [
      "The following rows with missing or null data have been deleted\n",
      "       ID      Name    Occupation  Country  Age\n",
      "36    37   Lillian           NaN   France   47\n",
      "166  167       NaN           NaN      NaN  NaN\n",
      "332  333      Mila           NaN    India   55\n",
      "406  407       NaN    Accountant      USA   55\n",
      "846  847    Peyton           NaN  Austria   34\n",
      "854  855       Ivy           NaN    Spain   24\n",
      "867  NaN  Serenity  Data Analyst      USA   29\n",
      "977  978     Rylee        Intern      USA  NaN\n",
      "990  991      Aria           NaN  Austria   34\n"
     ]
    },
    {
     "data": {
      "text/html": [
       "<div>\n",
       "<style scoped>\n",
       "    .dataframe tbody tr th:only-of-type {\n",
       "        vertical-align: middle;\n",
       "    }\n",
       "\n",
       "    .dataframe tbody tr th {\n",
       "        vertical-align: top;\n",
       "    }\n",
       "\n",
       "    .dataframe thead th {\n",
       "        text-align: right;\n",
       "    }\n",
       "</style>\n",
       "<table border=\"1\" class=\"dataframe\">\n",
       "  <thead>\n",
       "    <tr style=\"text-align: right;\">\n",
       "      <th></th>\n",
       "      <th>ID</th>\n",
       "      <th>Name</th>\n",
       "      <th>Occupation</th>\n",
       "      <th>Country</th>\n",
       "      <th>Age</th>\n",
       "    </tr>\n",
       "  </thead>\n",
       "  <tbody>\n",
       "    <tr>\n",
       "      <th>0</th>\n",
       "      <td>1</td>\n",
       "      <td>Jon</td>\n",
       "      <td>Data Scientist</td>\n",
       "      <td>USA</td>\n",
       "      <td>35</td>\n",
       "    </tr>\n",
       "    <tr>\n",
       "      <th>1</th>\n",
       "      <td>2</td>\n",
       "      <td>Deadpool</td>\n",
       "      <td>Data Analyst</td>\n",
       "      <td>UK</td>\n",
       "      <td>28</td>\n",
       "    </tr>\n",
       "    <tr>\n",
       "      <th>2</th>\n",
       "      <td>3</td>\n",
       "      <td>James</td>\n",
       "      <td>Data Engineer</td>\n",
       "      <td>USA</td>\n",
       "      <td>33</td>\n",
       "    </tr>\n",
       "    <tr>\n",
       "      <th>3</th>\n",
       "      <td>4</td>\n",
       "      <td>Wolverine</td>\n",
       "      <td>Software Engineer</td>\n",
       "      <td>Canada</td>\n",
       "      <td>18</td>\n",
       "    </tr>\n",
       "    <tr>\n",
       "      <th>4</th>\n",
       "      <td>5</td>\n",
       "      <td>Jon</td>\n",
       "      <td>Accountant</td>\n",
       "      <td>Finnland</td>\n",
       "      <td>23</td>\n",
       "    </tr>\n",
       "    <tr>\n",
       "      <th>...</th>\n",
       "      <td>...</td>\n",
       "      <td>...</td>\n",
       "      <td>...</td>\n",
       "      <td>...</td>\n",
       "      <td>...</td>\n",
       "    </tr>\n",
       "    <tr>\n",
       "      <th>994</th>\n",
       "      <td>995</td>\n",
       "      <td>Paisley</td>\n",
       "      <td>Accountant</td>\n",
       "      <td>Spain</td>\n",
       "      <td>44</td>\n",
       "    </tr>\n",
       "    <tr>\n",
       "      <th>995</th>\n",
       "      <td>996</td>\n",
       "      <td>Ivy</td>\n",
       "      <td>Software Engineer</td>\n",
       "      <td>Switzerland</td>\n",
       "      <td>65</td>\n",
       "    </tr>\n",
       "    <tr>\n",
       "      <th>996</th>\n",
       "      <td>997</td>\n",
       "      <td>Penelope</td>\n",
       "      <td>Developer</td>\n",
       "      <td>Austria</td>\n",
       "      <td>18</td>\n",
       "    </tr>\n",
       "    <tr>\n",
       "      <th>997</th>\n",
       "      <td>998</td>\n",
       "      <td>Aubrey</td>\n",
       "      <td>Accountant</td>\n",
       "      <td>France</td>\n",
       "      <td>59</td>\n",
       "    </tr>\n",
       "    <tr>\n",
       "      <th>998</th>\n",
       "      <td>999</td>\n",
       "      <td>Maya</td>\n",
       "      <td>Developer</td>\n",
       "      <td>USA</td>\n",
       "      <td>63</td>\n",
       "    </tr>\n",
       "  </tbody>\n",
       "</table>\n",
       "<p>990 rows × 5 columns</p>\n",
       "</div>"
      ],
      "text/plain": [
       "      ID       Name         Occupation      Country  Age\n",
       "0      1        Jon     Data Scientist          USA   35\n",
       "1      2   Deadpool       Data Analyst           UK   28\n",
       "2      3      James      Data Engineer          USA   33\n",
       "3      4  Wolverine  Software Engineer       Canada   18\n",
       "4      5        Jon         Accountant     Finnland   23\n",
       "..   ...        ...                ...          ...  ...\n",
       "994  995    Paisley         Accountant        Spain   44\n",
       "995  996        Ivy  Software Engineer  Switzerland   65\n",
       "996  997   Penelope          Developer      Austria   18\n",
       "997  998     Aubrey         Accountant       France   59\n",
       "998  999       Maya          Developer          USA   63\n",
       "\n",
       "[990 rows x 5 columns]"
      ]
     },
     "execution_count": 6,
     "metadata": {},
     "output_type": "execute_result"
    }
   ],
   "source": [
    "df, header = extract_data_from_gs(filename_widget.value, service_account_file, scopes)\n",
    "df"
   ]
  },
  {
   "cell_type": "markdown",
   "id": "5b79ccfa",
   "metadata": {},
   "source": [
    "## 3 Data Filtering by Name"
   ]
  },
  {
   "cell_type": "markdown",
   "id": "b81a84f8",
   "metadata": {},
   "source": [
    "Finds all instances of the given name. Given the nature of this query, this cell must **only** be executed if a Google Sheets file containing the employee data structure has been previously loaded"
   ]
  },
  {
   "cell_type": "code",
   "execution_count": 7,
   "id": "133587dd",
   "metadata": {},
   "outputs": [
    {
     "data": {
      "application/vnd.jupyter.widget-view+json": {
       "model_id": "f8e80c75f9514a8ba70281b61d1081b1",
       "version_major": 2,
       "version_minor": 0
      },
      "text/plain": [
       "Text(value='', placeholder='Type employee name')"
      ]
     },
     "metadata": {},
     "output_type": "display_data"
    }
   ],
   "source": [
    "# Input the emmployee name query and execute the next cell\n",
    "employee_name_widget = widgets.Text(placeholder='Type employee name')\n",
    "display(employee_name_widget)"
   ]
  },
  {
   "cell_type": "code",
   "execution_count": 8,
   "id": "8e87a284",
   "metadata": {
    "scrolled": false
   },
   "outputs": [
    {
     "data": {
      "text/html": [
       "<div>\n",
       "<style scoped>\n",
       "    .dataframe tbody tr th:only-of-type {\n",
       "        vertical-align: middle;\n",
       "    }\n",
       "\n",
       "    .dataframe tbody tr th {\n",
       "        vertical-align: top;\n",
       "    }\n",
       "\n",
       "    .dataframe thead th {\n",
       "        text-align: right;\n",
       "    }\n",
       "</style>\n",
       "<table border=\"1\" class=\"dataframe\">\n",
       "  <thead>\n",
       "    <tr style=\"text-align: right;\">\n",
       "      <th></th>\n",
       "      <th>ID</th>\n",
       "      <th>Name</th>\n",
       "      <th>Occupation</th>\n",
       "      <th>Country</th>\n",
       "      <th>Age</th>\n",
       "    </tr>\n",
       "  </thead>\n",
       "  <tbody>\n",
       "    <tr>\n",
       "      <th>46</th>\n",
       "      <td>47</td>\n",
       "      <td>Charlotte</td>\n",
       "      <td>Executive</td>\n",
       "      <td>Austria</td>\n",
       "      <td>50</td>\n",
       "    </tr>\n",
       "    <tr>\n",
       "      <th>137</th>\n",
       "      <td>138</td>\n",
       "      <td>Charlotte</td>\n",
       "      <td>Executive</td>\n",
       "      <td>Germany</td>\n",
       "      <td>33</td>\n",
       "    </tr>\n",
       "    <tr>\n",
       "      <th>232</th>\n",
       "      <td>233</td>\n",
       "      <td>Charlotte</td>\n",
       "      <td>Developer</td>\n",
       "      <td>Switzerland</td>\n",
       "      <td>27</td>\n",
       "    </tr>\n",
       "    <tr>\n",
       "      <th>342</th>\n",
       "      <td>343</td>\n",
       "      <td>Charlotte</td>\n",
       "      <td>Accountant</td>\n",
       "      <td>Austria</td>\n",
       "      <td>25</td>\n",
       "    </tr>\n",
       "    <tr>\n",
       "      <th>379</th>\n",
       "      <td>380</td>\n",
       "      <td>Charlotte</td>\n",
       "      <td>Developer</td>\n",
       "      <td>Switzerland</td>\n",
       "      <td>46</td>\n",
       "    </tr>\n",
       "    <tr>\n",
       "      <th>413</th>\n",
       "      <td>414</td>\n",
       "      <td>Charlotte</td>\n",
       "      <td>Executive</td>\n",
       "      <td>India</td>\n",
       "      <td>30</td>\n",
       "    </tr>\n",
       "    <tr>\n",
       "      <th>498</th>\n",
       "      <td>499</td>\n",
       "      <td>Charlotte</td>\n",
       "      <td>Intern</td>\n",
       "      <td>France</td>\n",
       "      <td>62</td>\n",
       "    </tr>\n",
       "    <tr>\n",
       "      <th>503</th>\n",
       "      <td>504</td>\n",
       "      <td>Charlotte</td>\n",
       "      <td>Intern</td>\n",
       "      <td>India</td>\n",
       "      <td>34</td>\n",
       "    </tr>\n",
       "    <tr>\n",
       "      <th>605</th>\n",
       "      <td>606</td>\n",
       "      <td>Charlotte</td>\n",
       "      <td>Accountant</td>\n",
       "      <td>Italy</td>\n",
       "      <td>25</td>\n",
       "    </tr>\n",
       "    <tr>\n",
       "      <th>655</th>\n",
       "      <td>656</td>\n",
       "      <td>Charlotte</td>\n",
       "      <td>Data Analyst</td>\n",
       "      <td>UK</td>\n",
       "      <td>41</td>\n",
       "    </tr>\n",
       "    <tr>\n",
       "      <th>668</th>\n",
       "      <td>669</td>\n",
       "      <td>Charlotte</td>\n",
       "      <td>Data Scientist</td>\n",
       "      <td>Switzerland</td>\n",
       "      <td>31</td>\n",
       "    </tr>\n",
       "  </tbody>\n",
       "</table>\n",
       "</div>"
      ],
      "text/plain": [
       "      ID       Name      Occupation      Country  Age\n",
       "46    47  Charlotte       Executive      Austria   50\n",
       "137  138  Charlotte       Executive      Germany   33\n",
       "232  233  Charlotte       Developer  Switzerland   27\n",
       "342  343  Charlotte      Accountant      Austria   25\n",
       "379  380  Charlotte       Developer  Switzerland   46\n",
       "413  414  Charlotte       Executive        India   30\n",
       "498  499  Charlotte          Intern       France   62\n",
       "503  504  Charlotte          Intern        India   34\n",
       "605  606  Charlotte      Accountant        Italy   25\n",
       "655  656  Charlotte    Data Analyst           UK   41\n",
       "668  669  Charlotte  Data Scientist  Switzerland   31"
      ]
     },
     "execution_count": 8,
     "metadata": {},
     "output_type": "execute_result"
    }
   ],
   "source": [
    "filtered_df = df.loc[df['Name'] == employee_name_widget.value]\n",
    "filtered_df"
   ]
  },
  {
   "cell_type": "markdown",
   "id": "1f8c0b8d",
   "metadata": {},
   "source": [
    "## 4. Data Filtering Using AI"
   ]
  },
  {
   "cell_type": "markdown",
   "id": "8f0828ec",
   "metadata": {},
   "source": [
    "I decided to also implement the capability of filtering the data contained in any Google Sheets. \n",
    "\n",
    "The only necessary input is a written explanation of what the user wants to find. "
   ]
  },
  {
   "cell_type": "code",
   "execution_count": 9,
   "id": "9c284874",
   "metadata": {},
   "outputs": [],
   "source": [
    "openai.api_key = 'Your own OPEN API KEY' # This is my personal OpenAI API key\n",
    "\n",
    "model_engine = 'text-davinci-003' # The most advanced AI model currently offered by the API"
   ]
  },
  {
   "cell_type": "markdown",
   "id": "b2b8f2ac",
   "metadata": {},
   "source": [
    "### 4.1 Function"
   ]
  },
  {
   "cell_type": "markdown",
   "id": "88da7e14",
   "metadata": {},
   "source": [
    "Uses AI to find all instances of a written data query. Using the OpenAI API it sends a prompted request following some guidelines so that the API answer follows a certain structure.\n",
    "\n",
    "Args\n",
    "* prompt (str) Written user query\n",
    "* header (str) Header of the df\n",
    "\n",
    "\n",
    "Returns\n",
    "\n",
    "* text (str) pandas df query code\n"
   ]
  },
  {
   "cell_type": "code",
   "execution_count": 10,
   "id": "932c5285",
   "metadata": {},
   "outputs": [],
   "source": [
    "def chatgpt_query(prompt, header):\n",
    "    # What is sent onto the AI model as a request\n",
    "    initial_prompt= 'I am going to pass a query in order to find all employees who meet certain requirements inside of a pandas dataframe. Translate those requirements in terms of the header which is ' + header + ' \\n\\nGive the commands in relationship with the structure of the given header. The answer needs to follow the following df queries in the next examples:\\nExample1\\nQuery: I want all employees whos name is Jon and live in Spain\\n\\ndf.loc[(df[\"Name\"] == \"Jon\") & (df[\"Country\"] == \"Spain\")]\\n\\nExample 2\\nQuery: I want all employees that live in the UK and are Data scientists\\ndf.loc[(df[\"Country\"] == \"UK\") & (df[\"Occupation\"] == \"Data scientist\")]\\n\\nYour answer must be precise and short, JUST the code. Write it in plane text so it is easier to read. You are only allowed to use one single line of code. You get bonus points for shorter answer and for the least amount of code lines. You are NOT allowed to write 2 lines of code or you will lose points. If you give the answer in 2 separate lines of code, you will be deducted points from the total score'\n",
    "    full_prompt = initial_prompt + '\\nNow my query is:\\n' + prompt + '\\n Only provide your answer with the code'\n",
    "    \n",
    "    # Tuning of the AI model parameters allowing to further customize the response\n",
    "    completion = openai.Completion.create(engine=model_engine,\n",
    "                                          prompt=full_prompt,\n",
    "                                          temperature=0.6,\n",
    "                                          max_tokens=1000,\n",
    "                                          top_p=1,\n",
    "                                          frequency_penalty=0.2,\n",
    "                                          presence_penalty=0)\n",
    "    # Answer from the request\n",
    "    text = completion.choices[0].text\n",
    "    text = text.replace(\"\\n\",\"\")\n",
    "    text = text.lstrip('.:')\n",
    "\n",
    "    return(text)"
   ]
  },
  {
   "cell_type": "markdown",
   "id": "9dcd34d5",
   "metadata": {},
   "source": [
    "### 4.2 Query Input "
   ]
  },
  {
   "cell_type": "code",
   "execution_count": 11,
   "id": "7116760f",
   "metadata": {},
   "outputs": [
    {
     "data": {
      "application/vnd.jupyter.widget-view+json": {
       "model_id": "db082d73194342889d6d62162eae60fa",
       "version_major": 2,
       "version_minor": 0
      },
      "text/plain": [
       "Text(value='', layout=Layout(height='50px', width='950px'), placeholder='Write any query as a command')"
      ]
     },
     "metadata": {},
     "output_type": "display_data"
    }
   ],
   "source": [
    "prompt_widget = widgets.Text(placeholder = 'Write any query as a command', layout=widgets.Layout(height='50px', width='950px'))\n",
    "display(prompt_widget)\n"
   ]
  },
  {
   "cell_type": "markdown",
   "id": "31e5d6ba",
   "metadata": {},
   "source": [
    "Example 1: ``I want to find all employees older than 30 and that also live in Spain``\n",
    "\n",
    "Example 2: ``Show me all employees that live in the UK or the USA and are a Data Scientist``"
   ]
  },
  {
   "cell_type": "markdown",
   "id": "39532e60",
   "metadata": {},
   "source": [
    "### 4.3 Display of the query results"
   ]
  },
  {
   "cell_type": "code",
   "execution_count": 12,
   "id": "679cc606",
   "metadata": {},
   "outputs": [
    {
     "data": {
      "text/html": [
       "<div>\n",
       "<style scoped>\n",
       "    .dataframe tbody tr th:only-of-type {\n",
       "        vertical-align: middle;\n",
       "    }\n",
       "\n",
       "    .dataframe tbody tr th {\n",
       "        vertical-align: top;\n",
       "    }\n",
       "\n",
       "    .dataframe thead th {\n",
       "        text-align: right;\n",
       "    }\n",
       "</style>\n",
       "<table border=\"1\" class=\"dataframe\">\n",
       "  <thead>\n",
       "    <tr style=\"text-align: right;\">\n",
       "      <th></th>\n",
       "      <th>ID</th>\n",
       "      <th>Name</th>\n",
       "      <th>Occupation</th>\n",
       "      <th>Country</th>\n",
       "      <th>Age</th>\n",
       "    </tr>\n",
       "  </thead>\n",
       "  <tbody>\n",
       "    <tr>\n",
       "      <th>28</th>\n",
       "      <td>29</td>\n",
       "      <td>Madison</td>\n",
       "      <td>Developer</td>\n",
       "      <td>Spain</td>\n",
       "      <td>31</td>\n",
       "    </tr>\n",
       "    <tr>\n",
       "      <th>47</th>\n",
       "      <td>48</td>\n",
       "      <td>Bella</td>\n",
       "      <td>Executive</td>\n",
       "      <td>Spain</td>\n",
       "      <td>34</td>\n",
       "    </tr>\n",
       "    <tr>\n",
       "      <th>258</th>\n",
       "      <td>259</td>\n",
       "      <td>Everly</td>\n",
       "      <td>Intern</td>\n",
       "      <td>Spain</td>\n",
       "      <td>39</td>\n",
       "    </tr>\n",
       "    <tr>\n",
       "      <th>274</th>\n",
       "      <td>275</td>\n",
       "      <td>Sophia</td>\n",
       "      <td>Intern</td>\n",
       "      <td>Spain</td>\n",
       "      <td>35</td>\n",
       "    </tr>\n",
       "    <tr>\n",
       "      <th>323</th>\n",
       "      <td>324</td>\n",
       "      <td>Autumn</td>\n",
       "      <td>Accountant</td>\n",
       "      <td>Spain</td>\n",
       "      <td>34</td>\n",
       "    </tr>\n",
       "    <tr>\n",
       "      <th>433</th>\n",
       "      <td>434</td>\n",
       "      <td>Harper</td>\n",
       "      <td>Intern</td>\n",
       "      <td>Spain</td>\n",
       "      <td>34</td>\n",
       "    </tr>\n",
       "    <tr>\n",
       "      <th>436</th>\n",
       "      <td>437</td>\n",
       "      <td>Grace</td>\n",
       "      <td>Executive</td>\n",
       "      <td>Spain</td>\n",
       "      <td>38</td>\n",
       "    </tr>\n",
       "    <tr>\n",
       "      <th>472</th>\n",
       "      <td>473</td>\n",
       "      <td>Delilah</td>\n",
       "      <td>Software Engineer</td>\n",
       "      <td>Spain</td>\n",
       "      <td>38</td>\n",
       "    </tr>\n",
       "    <tr>\n",
       "      <th>481</th>\n",
       "      <td>482</td>\n",
       "      <td>Arianna</td>\n",
       "      <td>Data Analyst</td>\n",
       "      <td>Spain</td>\n",
       "      <td>31</td>\n",
       "    </tr>\n",
       "    <tr>\n",
       "      <th>492</th>\n",
       "      <td>493</td>\n",
       "      <td>Madeline</td>\n",
       "      <td>Developer</td>\n",
       "      <td>Spain</td>\n",
       "      <td>38</td>\n",
       "    </tr>\n",
       "    <tr>\n",
       "      <th>507</th>\n",
       "      <td>508</td>\n",
       "      <td>Madelyn</td>\n",
       "      <td>Data Scientist</td>\n",
       "      <td>Spain</td>\n",
       "      <td>35</td>\n",
       "    </tr>\n",
       "    <tr>\n",
       "      <th>509</th>\n",
       "      <td>510</td>\n",
       "      <td>Kinsley</td>\n",
       "      <td>Executive</td>\n",
       "      <td>Spain</td>\n",
       "      <td>34</td>\n",
       "    </tr>\n",
       "    <tr>\n",
       "      <th>564</th>\n",
       "      <td>565</td>\n",
       "      <td>Eva</td>\n",
       "      <td>Data Scientist</td>\n",
       "      <td>Spain</td>\n",
       "      <td>39</td>\n",
       "    </tr>\n",
       "    <tr>\n",
       "      <th>583</th>\n",
       "      <td>584</td>\n",
       "      <td>Clara</td>\n",
       "      <td>Intern</td>\n",
       "      <td>Spain</td>\n",
       "      <td>32</td>\n",
       "    </tr>\n",
       "    <tr>\n",
       "      <th>733</th>\n",
       "      <td>734</td>\n",
       "      <td>Grace</td>\n",
       "      <td>Data Analyst</td>\n",
       "      <td>Spain</td>\n",
       "      <td>39</td>\n",
       "    </tr>\n",
       "    <tr>\n",
       "      <th>744</th>\n",
       "      <td>745</td>\n",
       "      <td>Audrey</td>\n",
       "      <td>Data Scientist</td>\n",
       "      <td>Spain</td>\n",
       "      <td>31</td>\n",
       "    </tr>\n",
       "    <tr>\n",
       "      <th>789</th>\n",
       "      <td>790</td>\n",
       "      <td>Savannah</td>\n",
       "      <td>Accountant</td>\n",
       "      <td>Spain</td>\n",
       "      <td>33</td>\n",
       "    </tr>\n",
       "    <tr>\n",
       "      <th>891</th>\n",
       "      <td>892</td>\n",
       "      <td>Rylee</td>\n",
       "      <td>Software Engineer</td>\n",
       "      <td>Spain</td>\n",
       "      <td>37</td>\n",
       "    </tr>\n",
       "    <tr>\n",
       "      <th>895</th>\n",
       "      <td>896</td>\n",
       "      <td>Aurora</td>\n",
       "      <td>Accountant</td>\n",
       "      <td>Spain</td>\n",
       "      <td>31</td>\n",
       "    </tr>\n",
       "    <tr>\n",
       "      <th>974</th>\n",
       "      <td>975</td>\n",
       "      <td>Hailey</td>\n",
       "      <td>Accountant</td>\n",
       "      <td>Spain</td>\n",
       "      <td>34</td>\n",
       "    </tr>\n",
       "  </tbody>\n",
       "</table>\n",
       "</div>"
      ],
      "text/plain": [
       "      ID      Name         Occupation Country  Age\n",
       "28    29   Madison          Developer   Spain   31\n",
       "47    48     Bella          Executive   Spain   34\n",
       "258  259    Everly             Intern   Spain   39\n",
       "274  275    Sophia             Intern   Spain   35\n",
       "323  324    Autumn         Accountant   Spain   34\n",
       "433  434    Harper             Intern   Spain   34\n",
       "436  437     Grace          Executive   Spain   38\n",
       "472  473   Delilah  Software Engineer   Spain   38\n",
       "481  482   Arianna       Data Analyst   Spain   31\n",
       "492  493  Madeline          Developer   Spain   38\n",
       "507  508   Madelyn     Data Scientist   Spain   35\n",
       "509  510   Kinsley          Executive   Spain   34\n",
       "564  565       Eva     Data Scientist   Spain   39\n",
       "583  584     Clara             Intern   Spain   32\n",
       "733  734     Grace       Data Analyst   Spain   39\n",
       "744  745    Audrey     Data Scientist   Spain   31\n",
       "789  790  Savannah         Accountant   Spain   33\n",
       "891  892     Rylee  Software Engineer   Spain   37\n",
       "895  896    Aurora         Accountant   Spain   31\n",
       "974  975    Hailey         Accountant   Spain   34"
      ]
     },
     "execution_count": 12,
     "metadata": {},
     "output_type": "execute_result"
    }
   ],
   "source": [
    "answer = chatgpt_query(prompt_widget.value, header)\n",
    "filtered_df = eval(answer)\n",
    "filtered_df"
   ]
  },
  {
   "cell_type": "markdown",
   "id": "d8fbcba9",
   "metadata": {},
   "source": [
    "## 5. Google Slides"
   ]
  },
  {
   "cell_type": "markdown",
   "id": "89a63fe1",
   "metadata": {},
   "source": [
    "### 5.1  Defining the permissions"
   ]
  },
  {
   "cell_type": "code",
   "execution_count": 13,
   "id": "946eb1fc",
   "metadata": {},
   "outputs": [],
   "source": [
    "# Set the path to your service account credentials JSON file\n",
    "service_account_file = 'roche2023.json'\n",
    "\n",
    "source_slide_id = '190x1G-7DH6zaWEJjTI49sdoJ9ZVr_tyxW05QB_2W-SY' # ID of the Google Slides template\n",
    "\n",
    "# Necessary authorizations to access the Google Slides template file, create copies and share them\n",
    "scopes = ['https://www.googleapis.com/auth/drive', \n",
    "          'https://www.googleapis.com/auth/drive.file', \n",
    "          'https://www.googleapis.com/auth/presentations']"
   ]
  },
  {
   "cell_type": "markdown",
   "id": "1394ce6c",
   "metadata": {},
   "source": [
    "### 5.2 Email input"
   ]
  },
  {
   "cell_type": "code",
   "execution_count": 14,
   "id": "52319e85",
   "metadata": {},
   "outputs": [
    {
     "data": {
      "application/vnd.jupyter.widget-view+json": {
       "model_id": "203e002815b7400397ba2ee5f4920014",
       "version_major": 2,
       "version_minor": 0
      },
      "text/plain": [
       "Text(value='', description='Email', placeholder='Write any query as a command')"
      ]
     },
     "metadata": {},
     "output_type": "display_data"
    }
   ],
   "source": [
    "email_widget = widgets.Text(placeholder = 'Write any query as a command',description = 'Email')\n",
    "display(email_widget)"
   ]
  },
  {
   "cell_type": "code",
   "execution_count": 16,
   "id": "13eb51c5",
   "metadata": {},
   "outputs": [],
   "source": [
    "# Build the credentials and Sheets service\n",
    "credentials = service_account.Credentials.from_service_account_file(service_account_file, scopes=scopes)\n",
    "drive_service = build('drive', 'v3', credentials=credentials) # Google Drive service\n",
    "slides_service = build('slides', 'v1', credentials=credentials) # Google Slides service"
   ]
  },
  {
   "cell_type": "markdown",
   "id": "006aedb3",
   "metadata": {},
   "source": [
    "### 5.3 Creating and sharing Google Slides "
   ]
  },
  {
   "cell_type": "markdown",
   "id": "80dabd3a",
   "metadata": {},
   "source": [
    "Creates copies of the Google Slides template file and replaces the ``Placeholders`` with the data from the result of the employees query. Shares it with an email address. Informs user upon completion.\n",
    "\n",
    "Args\n",
    "* dataframe (df) The filtered df, resulting from the previous query\n",
    "* share_email (str) An email to share the Google Slides with"
   ]
  },
  {
   "cell_type": "code",
   "execution_count": 17,
   "id": "20c4dcb9",
   "metadata": {},
   "outputs": [],
   "source": [
    "def share_slide_copies(dataframe, share_email):\n",
    "    \n",
    "    # Defining the Placeholders on the Google Slides\n",
    "    placeholders_list = [\"**Employee ID**\", \n",
    "                         \"**Employee Name**\", \n",
    "                         \"**Occupation**\", \n",
    "                         \"**Country**\", \n",
    "                         \"**Age**\"]\n",
    "    \n",
    "    # Empty list to store the copies IDs\n",
    "    copies=[]\n",
    "    \n",
    "    # Iterates over the filtered df results \n",
    "    for i in range(len(dataframe)):\n",
    "        \n",
    "        # Extracts info of the employee from the filtered df\n",
    "        name = dataframe.iloc[i]['Name']\n",
    "        employer_id = str(dataframe.iloc[i]['ID'])\n",
    "        \n",
    "        # Sets the name of the copied file to be saved with the employee Name and ID\n",
    "        copy_title = name + ' - ' + employer_id\n",
    "        copy_body = {'name': copy_title}\n",
    "        \n",
    "        # Makes a copy of the template file and stores the response\n",
    "        copy_response = drive_service.files().copy(fileId=source_slide_id, body=copy_body).execute()\n",
    "        copies.append(copy_response['id'])\n",
    "        \n",
    "        # Store the batch updates requests. There is actually just one request, but a list is expected\n",
    "        requests = []\n",
    "\n",
    "        list_of_info = dataframe.iloc[i].tolist()\n",
    "        list_of_info = [str(item) for item in list_of_info]\n",
    "        \n",
    "        # Iterates over the placeholders and the employee info                 \n",
    "        for placeholder, info in zip(placeholders_list, list_of_info):\n",
    "            \n",
    "            # Replaces placeholders info with employee info\n",
    "            requests.append({\"replaceAllText\": {\"containsText\": {\"text\": placeholder,\"matchCase\": False},\"replaceText\": info}})\n",
    "            slides_service.presentations().batchUpdate(presentationId = copies[i], body={'requests': requests}).execute()\n",
    "\n",
    "        # Shares the Google Slides copies with the email address\n",
    "        drive_service.permissions().create(\n",
    "                fileId=copies[i],\n",
    "                body={'type': 'user', 'role': 'writer', 'emailAddress': share_email},\n",
    "                fields = 'id',\n",
    "                sendNotificationEmail = False\n",
    "                ).execute()\n",
    "\n",
    "    print(f\"{len(dataframe)} employee files created and shared with {share_email}.\")"
   ]
  },
  {
   "cell_type": "code",
   "execution_count": 18,
   "id": "f33d3f50",
   "metadata": {},
   "outputs": [
    {
     "name": "stdout",
     "output_type": "stream",
     "text": [
      "20 employee files created and shared with sergi.cmolina@gmail.com.\n"
     ]
    }
   ],
   "source": [
    "share_slide_copies(filtered_df, email_widget.value)"
   ]
  },
  {
   "cell_type": "markdown",
   "id": "d8a31d7c",
   "metadata": {},
   "source": [
    "## 6. Problem solving"
   ]
  },
  {
   "cell_type": "markdown",
   "id": "e8fe8f4e",
   "metadata": {},
   "source": [
    "By far the biggest issue I encountered was an API error from the Google Drive API informing me about having exceeded sharing quota limits. This error was very missleading because I would get it only at certain times of the day. I did some research on the API documentation where I could find that the recommended course of action was to deploy an [exponential backoff algorithm](https://developers.google.com/drive/api/guides/limits#exponential). \n",
    "\n",
    "While on the middle of deploying this, I decided to have a closer look at my current API requests quota and compare it with the usage limits dictated on the API documentation as ``20000 per 100 seconds``. My current quota usages where far lower than the API [usage limit](https://developers.google.com/analytics/devguides/reporting/mcf/v3/limits-quotas#general_quota_limits) as shown in the graph below.\n"
   ]
  },
  {
   "cell_type": "markdown",
   "id": "804242f5",
   "metadata": {},
   "source": [
    "<center>\n",
    "<img src=\"https://i.imgur.com/2cw2qkM.png\" alt=\"Image\" style=\"max-width: 600px;\"/>\n",
    "</center>\n"
   ]
  },
  {
   "cell_type": "markdown",
   "id": "b7503d15",
   "metadata": {},
   "source": [
    "This error was only being shown when executing the ``share_slide_copies`` function, which made me think the issue had something to do with the file sharing. I tested creating the Google Slides files without sharing them and no error showed. So this led me away from my first assumption. Diving deeper into the matter and also researching other sources like StackOverflow, I was finally able to try and implement a solution that solved the issue. \n",
    "\n",
    "Apparently there is a file sharing limit of ``50 files per day`` when sending email notifications which is enabled by default\n",
    "\n",
    "> drive_service.permissions().create(\n",
    "\n",
    ">               fileId=copies[i],\n",
    ">               body={'type': 'user', 'role': 'writer', 'emailAddress': share_email},\n",
    ">               fields = 'id',\n",
    ">               sendNotificationEmail = False\n",
    ">               ).execute()\n",
    "                "
   ]
  },
  {
   "cell_type": "markdown",
   "id": "ab706c1c",
   "metadata": {},
   "source": [
    "After setting the ``sendNotificationEmail`` parameter to False, everything worked fine."
   ]
  },
  {
   "cell_type": "markdown",
   "id": "0fcce297",
   "metadata": {},
   "source": [
    "## 7 Future Improvements "
   ]
  },
  {
   "cell_type": "markdown",
   "id": "d979ea5a",
   "metadata": {},
   "source": [
    "- Implement Google Speech to pass the query information\n",
    "- Obtain stronger results by passing also the information contained in the df to have the AI automate even more\n",
    "- Be able to modify the Google Sheets file with voice commands\n",
    "- Take into account API usage limit in the functions, unlilekly to exceed with this project\n",
    "- Pass some of the Google Slides or the Google Sheets features as arguments to the functions so it can be more customizable\n",
    "- Implement a better Exception handling\n",
    "- Better User Interface Design on the Desktop App"
   ]
  },
  {
   "cell_type": "markdown",
   "id": "69d935b4",
   "metadata": {},
   "source": [
    "Sergi Molina"
   ]
  }
 ],
 "metadata": {
  "kernelspec": {
   "display_name": "Python 3",
   "language": "python",
   "name": "python3"
  },
  "language_info": {
   "codemirror_mode": {
    "name": "ipython",
    "version": 3
   },
   "file_extension": ".py",
   "mimetype": "text/x-python",
   "name": "python",
   "nbconvert_exporter": "python",
   "pygments_lexer": "ipython3",
   "version": "3.8.8"
  }
 },
 "nbformat": 4,
 "nbformat_minor": 5
}
